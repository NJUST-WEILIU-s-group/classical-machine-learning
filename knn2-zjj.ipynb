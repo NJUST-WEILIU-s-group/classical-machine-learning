{
 "cells": [
  {
   "cell_type": "markdown",
   "metadata": {},
   "source": [
    "# K-Nearest Neighbors"
   ]
  },
  {
   "cell_type": "markdown",
   "metadata": {},
   "source": [
    "## Model training and evaluation process"
   ]
  },
  {
   "cell_type": "markdown",
   "metadata": {},
   "source": [
    "### Import related modules and load the iris data set.\n",
    "\n",
    "The data set has four features and three classifications. The total number of samples is 150."
   ]
  },
  {
   "cell_type": "code",
   "execution_count": 2,
   "metadata": {},
   "outputs": [],
   "source": [
    "import numpy as np\n",
    "import matplotlib.pyplot as plt\n",
    "from sklearn.datasets import load_iris\n",
    "\n",
    "X, y = load_iris(return_X_y=True)"
   ]
  },
  {
   "cell_type": "code",
   "execution_count": 3,
   "metadata": {},
   "outputs": [
    {
     "name": "stdout",
     "output_type": "stream",
     "text": [
      "[[5.1 3.5 1.4 0.2]\n",
      " [4.9 3.  1.4 0.2]\n",
      " [4.7 3.2 1.3 0.2]\n",
      " [4.6 3.1 1.5 0.2]\n",
      " [5.  3.6 1.4 0.2]\n",
      " [5.4 3.9 1.7 0.4]\n",
      " [4.6 3.4 1.4 0.3]\n",
      " [5.  3.4 1.5 0.2]\n",
      " [4.4 2.9 1.4 0.2]\n",
      " [4.9 3.1 1.5 0.1]\n",
      " [5.4 3.7 1.5 0.2]\n",
      " [4.8 3.4 1.6 0.2]\n",
      " [4.8 3.  1.4 0.1]\n",
      " [4.3 3.  1.1 0.1]\n",
      " [5.8 4.  1.2 0.2]\n",
      " [5.7 4.4 1.5 0.4]\n",
      " [5.4 3.9 1.3 0.4]\n",
      " [5.1 3.5 1.4 0.3]\n",
      " [5.7 3.8 1.7 0.3]\n",
      " [5.1 3.8 1.5 0.3]\n",
      " [5.4 3.4 1.7 0.2]\n",
      " [5.1 3.7 1.5 0.4]\n",
      " [4.6 3.6 1.  0.2]\n",
      " [5.1 3.3 1.7 0.5]\n",
      " [4.8 3.4 1.9 0.2]\n",
      " [5.  3.  1.6 0.2]\n",
      " [5.  3.4 1.6 0.4]\n",
      " [5.2 3.5 1.5 0.2]\n",
      " [5.2 3.4 1.4 0.2]\n",
      " [4.7 3.2 1.6 0.2]\n",
      " [4.8 3.1 1.6 0.2]\n",
      " [5.4 3.4 1.5 0.4]\n",
      " [5.2 4.1 1.5 0.1]\n",
      " [5.5 4.2 1.4 0.2]\n",
      " [4.9 3.1 1.5 0.2]\n",
      " [5.  3.2 1.2 0.2]\n",
      " [5.5 3.5 1.3 0.2]\n",
      " [4.9 3.6 1.4 0.1]\n",
      " [4.4 3.  1.3 0.2]\n",
      " [5.1 3.4 1.5 0.2]\n",
      " [5.  3.5 1.3 0.3]\n",
      " [4.5 2.3 1.3 0.3]\n",
      " [4.4 3.2 1.3 0.2]\n",
      " [5.  3.5 1.6 0.6]\n",
      " [5.1 3.8 1.9 0.4]\n",
      " [4.8 3.  1.4 0.3]\n",
      " [5.1 3.8 1.6 0.2]\n",
      " [4.6 3.2 1.4 0.2]\n",
      " [5.3 3.7 1.5 0.2]\n",
      " [5.  3.3 1.4 0.2]\n",
      " [7.  3.2 4.7 1.4]\n",
      " [6.4 3.2 4.5 1.5]\n",
      " [6.9 3.1 4.9 1.5]\n",
      " [5.5 2.3 4.  1.3]\n",
      " [6.5 2.8 4.6 1.5]\n",
      " [5.7 2.8 4.5 1.3]\n",
      " [6.3 3.3 4.7 1.6]\n",
      " [4.9 2.4 3.3 1. ]\n",
      " [6.6 2.9 4.6 1.3]\n",
      " [5.2 2.7 3.9 1.4]\n",
      " [5.  2.  3.5 1. ]\n",
      " [5.9 3.  4.2 1.5]\n",
      " [6.  2.2 4.  1. ]\n",
      " [6.1 2.9 4.7 1.4]\n",
      " [5.6 2.9 3.6 1.3]\n",
      " [6.7 3.1 4.4 1.4]\n",
      " [5.6 3.  4.5 1.5]\n",
      " [5.8 2.7 4.1 1. ]\n",
      " [6.2 2.2 4.5 1.5]\n",
      " [5.6 2.5 3.9 1.1]\n",
      " [5.9 3.2 4.8 1.8]\n",
      " [6.1 2.8 4.  1.3]\n",
      " [6.3 2.5 4.9 1.5]\n",
      " [6.1 2.8 4.7 1.2]\n",
      " [6.4 2.9 4.3 1.3]\n",
      " [6.6 3.  4.4 1.4]\n",
      " [6.8 2.8 4.8 1.4]\n",
      " [6.7 3.  5.  1.7]\n",
      " [6.  2.9 4.5 1.5]\n",
      " [5.7 2.6 3.5 1. ]\n",
      " [5.5 2.4 3.8 1.1]\n",
      " [5.5 2.4 3.7 1. ]\n",
      " [5.8 2.7 3.9 1.2]\n",
      " [6.  2.7 5.1 1.6]\n",
      " [5.4 3.  4.5 1.5]\n",
      " [6.  3.4 4.5 1.6]\n",
      " [6.7 3.1 4.7 1.5]\n",
      " [6.3 2.3 4.4 1.3]\n",
      " [5.6 3.  4.1 1.3]\n",
      " [5.5 2.5 4.  1.3]\n",
      " [5.5 2.6 4.4 1.2]\n",
      " [6.1 3.  4.6 1.4]\n",
      " [5.8 2.6 4.  1.2]\n",
      " [5.  2.3 3.3 1. ]\n",
      " [5.6 2.7 4.2 1.3]\n",
      " [5.7 3.  4.2 1.2]\n",
      " [5.7 2.9 4.2 1.3]\n",
      " [6.2 2.9 4.3 1.3]\n",
      " [5.1 2.5 3.  1.1]\n",
      " [5.7 2.8 4.1 1.3]\n",
      " [6.3 3.3 6.  2.5]\n",
      " [5.8 2.7 5.1 1.9]\n",
      " [7.1 3.  5.9 2.1]\n",
      " [6.3 2.9 5.6 1.8]\n",
      " [6.5 3.  5.8 2.2]\n",
      " [7.6 3.  6.6 2.1]\n",
      " [4.9 2.5 4.5 1.7]\n",
      " [7.3 2.9 6.3 1.8]\n",
      " [6.7 2.5 5.8 1.8]\n",
      " [7.2 3.6 6.1 2.5]\n",
      " [6.5 3.2 5.1 2. ]\n",
      " [6.4 2.7 5.3 1.9]\n",
      " [6.8 3.  5.5 2.1]\n",
      " [5.7 2.5 5.  2. ]\n",
      " [5.8 2.8 5.1 2.4]\n",
      " [6.4 3.2 5.3 2.3]\n",
      " [6.5 3.  5.5 1.8]\n",
      " [7.7 3.8 6.7 2.2]\n",
      " [7.7 2.6 6.9 2.3]\n",
      " [6.  2.2 5.  1.5]\n",
      " [6.9 3.2 5.7 2.3]\n",
      " [5.6 2.8 4.9 2. ]\n",
      " [7.7 2.8 6.7 2. ]\n",
      " [6.3 2.7 4.9 1.8]\n",
      " [6.7 3.3 5.7 2.1]\n",
      " [7.2 3.2 6.  1.8]\n",
      " [6.2 2.8 4.8 1.8]\n",
      " [6.1 3.  4.9 1.8]\n",
      " [6.4 2.8 5.6 2.1]\n",
      " [7.2 3.  5.8 1.6]\n",
      " [7.4 2.8 6.1 1.9]\n",
      " [7.9 3.8 6.4 2. ]\n",
      " [6.4 2.8 5.6 2.2]\n",
      " [6.3 2.8 5.1 1.5]\n",
      " [6.1 2.6 5.6 1.4]\n",
      " [7.7 3.  6.1 2.3]\n",
      " [6.3 3.4 5.6 2.4]\n",
      " [6.4 3.1 5.5 1.8]\n",
      " [6.  3.  4.8 1.8]\n",
      " [6.9 3.1 5.4 2.1]\n",
      " [6.7 3.1 5.6 2.4]\n",
      " [6.9 3.1 5.1 2.3]\n",
      " [5.8 2.7 5.1 1.9]\n",
      " [6.8 3.2 5.9 2.3]\n",
      " [6.7 3.3 5.7 2.5]\n",
      " [6.7 3.  5.2 2.3]\n",
      " [6.3 2.5 5.  1.9]\n",
      " [6.5 3.  5.2 2. ]\n",
      " [6.2 3.4 5.4 2.3]\n",
      " [5.9 3.  5.1 1.8]] [0 0 0 0 0 0 0 0 0 0 0 0 0 0 0 0 0 0 0 0 0 0 0 0 0 0 0 0 0 0 0 0 0 0 0 0 0\n",
      " 0 0 0 0 0 0 0 0 0 0 0 0 0 1 1 1 1 1 1 1 1 1 1 1 1 1 1 1 1 1 1 1 1 1 1 1 1\n",
      " 1 1 1 1 1 1 1 1 1 1 1 1 1 1 1 1 1 1 1 1 1 1 1 1 1 1 2 2 2 2 2 2 2 2 2 2 2\n",
      " 2 2 2 2 2 2 2 2 2 2 2 2 2 2 2 2 2 2 2 2 2 2 2 2 2 2 2 2 2 2 2 2 2 2 2 2 2\n",
      " 2 2]\n"
     ]
    }
   ],
   "source": [
    "print(X,y)"
   ]
  },
  {
   "cell_type": "markdown",
   "metadata": {},
   "source": [
    "### Draw a violin plot of each feature."
   ]
  },
  {
   "cell_type": "code",
   "execution_count": 4,
   "metadata": {},
   "outputs": [
    {
     "data": {
      "image/png": "[encoded data removed]",
      "text/plain": [
       "<Figure size 432x288 with 4 Axes>"
      ]
     },
     "metadata": {
      "needs_background": "light"
     },
     "output_type": "display_data"
    }
   ],
   "source": [
    "feature = ['sepal length (cm)', 'sepal width (cm)', 'petal length (cm)', 'petal width (cm)']\n",
    "name = ['setosa', 'versicolor', 'virginica']\n",
    "for i in range(len(feature)):\n",
    "    mm = X[:,i]\n",
    "    a = []; b = []; c = []\n",
    "    for j in range(len(mm)):\n",
    "        if y[j] == 0:\n",
    "            a.append(mm[j])\n",
    "        elif y[j] == 1:\n",
    "            b.append(mm[j])\n",
    "        elif y[j] == 2:\n",
    "            c.append(mm[j])\n",
    "    d = np.vstack((a,b,c)).T\n",
    "    plt.subplot(2, 2, i + 1)\n",
    "    plt.violinplot(d,showmedians=True)\n",
    "    plt.xticks([1,2,3],name)\n",
    "    plt.ylabel(feature[i])\n",
    "plt.tight_layout()\n",
    "plt.show()"
   ]
  },
  {
   "cell_type": "markdown",
   "metadata": {},
   "source": [
    "The above part is the distribution of each feature. The two pictures above show the length and width of the sepal, and the two pictures below show the length and width of the petals.It can be seen from the figure that the sepal length and width distribution of the three flowers are wide, and there are many overlapping types of different flower types, which is difficult to distinguish. For the length and width of the petals, the distribution of each flower is narrow, and there are fewer overlapping parts. It is easy to classify the three flowers."
   ]
  },
  {
   "cell_type": "markdown",
   "metadata": {},
   "source": [
    "###  Import machine learning modules from sklearn."
   ]
  },
  {
   "cell_type": "code",
   "execution_count": 5,
   "metadata": {},
   "outputs": [],
   "source": [
    "from sklearn.neighbors import KNeighborsClassifier\n",
    "from sklearn.decomposition import PCA\n",
    "from sklearn.preprocessing import StandardScaler\n",
    "from sklearn.model_selection import train_test_split, GridSearchCV\n",
    "from sklearn.feature_selection import SelectKBest, f_classif\n",
    "from sklearn.pipeline import Pipeline, FeatureUnion"
   ]
  },
  {
   "cell_type": "markdown",
   "metadata": {},
   "source": [
    "### Divide the training and test sets. Feature selection and dimensionality reduction.\n",
    "\n",
    "First, the training set and the test set are divided according to a ratio of 4:1. Then the features were selected, and we used PCA dimensionality reduction and analysis of variance. We use FeatureUnion to connect the two transformer objects in parallel."
   ]
  },
  {
   "cell_type": "code",
   "execution_count": 6,
   "metadata": {},
   "outputs": [],
   "source": [
    "X_train, X_test, y_train, y_test = train_test_split(X,y,test_size=0.2,shuffle=True,random_state=10,stratify=y)\n",
    "\n",
    "pca = PCA(n_components=2)\n",
    "selection = SelectKBest(f_classif,k=2)\n",
    "combined_features = FeatureUnion([(\"pca\", pca), (\"f_select\", selection)])"
   ]
  },
  {
   "cell_type": "markdown",
   "metadata": {},
   "source": [
    "### Cross validation with GridSearchCV\n",
    "\n",
    "We use Pipeline to combine combined_features, standard, and knn. Standardization is mainly to make different features comparable. We then used GridSearchCV to perform a 10-fold cross-validation of the grid search hyperparameters. The main process is to change the hyperparameters, and then compare the scores of the 10-fold cross-validation to finally select the best parameters."
   ]
  },
  {
   "cell_type": "code",
   "execution_count": 7,
   "metadata": {},
   "outputs": [
    {
     "data": {
      "text/plain": [
       "GridSearchCV(cv=10, error_score='raise-deprecating',\n",
       "       estimator=Pipeline(memory=None,\n",
       "     steps=[('features', FeatureUnion(n_jobs=None,\n",
       "       transformer_list=[('pca', PCA(copy=True, iterated_power='auto', n_components=2, random_state=None,\n",
       "  svd_solver='auto', tol=0.0, whiten=False)), ('f_select', SelectKBest(k=2, score_func=<function f_classif at 0x0000023202102C80>))],\n",
       "       transfo...ki',\n",
       "           metric_params=None, n_jobs=None, n_neighbors=5, p=2,\n",
       "           weights='uniform'))]),\n",
       "       fit_params=None, iid='warn', n_jobs=None,\n",
       "       param_grid={'features__pca__n_components': [1, 2, 3], 'features__f_select__k': [1, 2], 'knn__n_neighbors': [1, 3, 5], 'knn__p': [1, 2]},\n",
       "       pre_dispatch='2*n_jobs', refit=True, return_train_score='warn',\n",
       "       scoring=None, verbose=0)"
      ]
     },
     "execution_count": 7,
     "metadata": {},
     "output_type": "execute_result"
    }
   ],
   "source": [
    "pipe = Pipeline([(\"features\", combined_features),(\"standard\",StandardScaler()),(\"knn\", KNeighborsClassifier())])\n",
    "\n",
    "params = {'features__pca__n_components': [1, 2, 3],\n",
    "          'features__f_select__k':[1, 2],\n",
    "          'knn__n_neighbors': [1, 3, 5],\n",
    "          'knn__p': [1, 2]}\n",
    "\n",
    "clf = GridSearchCV(pipe,param_grid=params,cv=10)\n",
    "clf.fit(X_train,y_train)"
   ]
  },
  {
   "cell_type": "markdown",
   "metadata": {},
   "source": [
    "### Print out the training results.\n",
    "\n",
    "This process is based on the cross-validated score and its standard deviation during training.As can be seen from the results, 1) When the number of features selected by PCA and analysis of variance is small, the cross-validation score is low and the variance is large. At this time, the model performance is unstable. 2) When the number of features is small, with the increase of n_neighbors in knn, the score increases significantly. 3) When the number of features is small, using Manhattan_distance and euclidean_distance, there is almost no difference in cross-validation score between the two. When the number of features is large, the difference becomes obvious."
   ]
  },
  {
   "cell_type": "code",
   "execution_count": 8,
   "metadata": {},
   "outputs": [
    {
     "name": "stdout",
     "output_type": "stream",
     "text": [
      "0.908 (+/-0.174) for {'features__f_select__k': 1, 'features__pca__n_components': 1, 'knn__n_neighbors': 1, 'knn__p': 1}\n",
      "0.908 (+/-0.174) for {'features__f_select__k': 1, 'features__pca__n_components': 1, 'knn__n_neighbors': 1, 'knn__p': 2}\n",
      "0.933 (+/-0.163) for {'features__f_select__k': 1, 'features__pca__n_components': 1, 'knn__n_neighbors': 3, 'knn__p': 1}\n",
      "0.933 (+/-0.163) for {'features__f_select__k': 1, 'features__pca__n_components': 1, 'knn__n_neighbors': 3, 'knn__p': 2}\n",
      "0.942 (+/-0.167) for {'features__f_select__k': 1, 'features__pca__n_components': 1, 'knn__n_neighbors': 5, 'knn__p': 1}\n",
      "0.942 (+/-0.167) for {'features__f_select__k': 1, 'features__pca__n_components': 1, 'knn__n_neighbors': 5, 'knn__p': 2}\n",
      "0.933 (+/-0.125) for {'features__f_select__k': 1, 'features__pca__n_components': 2, 'knn__n_neighbors': 1, 'knn__p': 1}\n",
      "0.933 (+/-0.125) for {'features__f_select__k': 1, 'features__pca__n_components': 2, 'knn__n_neighbors': 1, 'knn__p': 2}\n",
      "0.950 (+/-0.082) for {'features__f_select__k': 1, 'features__pca__n_components': 2, 'knn__n_neighbors': 3, 'knn__p': 1}\n",
      "0.950 (+/-0.111) for {'features__f_select__k': 1, 'features__pca__n_components': 2, 'knn__n_neighbors': 3, 'knn__p': 2}\n",
      "0.967 (+/-0.082) for {'features__f_select__k': 1, 'features__pca__n_components': 2, 'knn__n_neighbors': 5, 'knn__p': 1}\n",
      "0.975 (+/-0.076) for {'features__f_select__k': 1, 'features__pca__n_components': 2, 'knn__n_neighbors': 5, 'knn__p': 2}\n",
      "0.942 (+/-0.150) for {'features__f_select__k': 1, 'features__pca__n_components': 3, 'knn__n_neighbors': 1, 'knn__p': 1}\n",
      "0.917 (+/-0.183) for {'features__f_select__k': 1, 'features__pca__n_components': 3, 'knn__n_neighbors': 1, 'knn__p': 2}\n",
      "0.958 (+/-0.112) for {'features__f_select__k': 1, 'features__pca__n_components': 3, 'knn__n_neighbors': 3, 'knn__p': 1}\n",
      "0.925 (+/-0.241) for {'features__f_select__k': 1, 'features__pca__n_components': 3, 'knn__n_neighbors': 3, 'knn__p': 2}\n",
      "0.933 (+/-0.163) for {'features__f_select__k': 1, 'features__pca__n_components': 3, 'knn__n_neighbors': 5, 'knn__p': 1}\n",
      "0.908 (+/-0.203) for {'features__f_select__k': 1, 'features__pca__n_components': 3, 'knn__n_neighbors': 5, 'knn__p': 2}\n",
      "0.933 (+/-0.125) for {'features__f_select__k': 2, 'features__pca__n_components': 1, 'knn__n_neighbors': 1, 'knn__p': 1}\n",
      "0.942 (+/-0.107) for {'features__f_select__k': 2, 'features__pca__n_components': 1, 'knn__n_neighbors': 1, 'knn__p': 2}\n",
      "0.942 (+/-0.167) for {'features__f_select__k': 2, 'features__pca__n_components': 1, 'knn__n_neighbors': 3, 'knn__p': 1}\n",
      "0.942 (+/-0.167) for {'features__f_select__k': 2, 'features__pca__n_components': 1, 'knn__n_neighbors': 3, 'knn__p': 2}\n",
      "0.950 (+/-0.133) for {'features__f_select__k': 2, 'features__pca__n_components': 1, 'knn__n_neighbors': 5, 'knn__p': 1}\n",
      "0.958 (+/-0.134) for {'features__f_select__k': 2, 'features__pca__n_components': 1, 'knn__n_neighbors': 5, 'knn__p': 2}\n",
      "0.950 (+/-0.133) for {'features__f_select__k': 2, 'features__pca__n_components': 2, 'knn__n_neighbors': 1, 'knn__p': 1}\n",
      "0.958 (+/-0.112) for {'features__f_select__k': 2, 'features__pca__n_components': 2, 'knn__n_neighbors': 1, 'knn__p': 2}\n",
      "0.950 (+/-0.111) for {'features__f_select__k': 2, 'features__pca__n_components': 2, 'knn__n_neighbors': 3, 'knn__p': 1}\n",
      "0.967 (+/-0.111) for {'features__f_select__k': 2, 'features__pca__n_components': 2, 'knn__n_neighbors': 3, 'knn__p': 2}\n",
      "0.958 (+/-0.112) for {'features__f_select__k': 2, 'features__pca__n_components': 2, 'knn__n_neighbors': 5, 'knn__p': 1}\n",
      "0.983 (+/-0.067) for {'features__f_select__k': 2, 'features__pca__n_components': 2, 'knn__n_neighbors': 5, 'knn__p': 2}\n",
      "0.950 (+/-0.133) for {'features__f_select__k': 2, 'features__pca__n_components': 3, 'knn__n_neighbors': 1, 'knn__p': 1}\n",
      "0.950 (+/-0.133) for {'features__f_select__k': 2, 'features__pca__n_components': 3, 'knn__n_neighbors': 1, 'knn__p': 2}\n",
      "0.942 (+/-0.150) for {'features__f_select__k': 2, 'features__pca__n_components': 3, 'knn__n_neighbors': 3, 'knn__p': 1}\n",
      "0.950 (+/-0.153) for {'features__f_select__k': 2, 'features__pca__n_components': 3, 'knn__n_neighbors': 3, 'knn__p': 2}\n",
      "0.950 (+/-0.111) for {'features__f_select__k': 2, 'features__pca__n_components': 3, 'knn__n_neighbors': 5, 'knn__p': 1}\n",
      "0.925 (+/-0.157) for {'features__f_select__k': 2, 'features__pca__n_components': 3, 'knn__n_neighbors': 5, 'knn__p': 2}\n",
      "best CV_score: 0.983   best parameter: {'features__f_select__k': 2, 'features__pca__n_components': 2, 'knn__n_neighbors': 5, 'knn__p': 2}\n"
     ]
    }
   ],
   "source": [
    "means = clf.cv_results_['mean_test_score']\n",
    "stds = clf.cv_results_['std_test_score']\n",
    "\n",
    "for mean, std, params in zip(means, stds, clf.cv_results_['params']):\n",
    "    print(\"%0.3f (+/-%0.03f) for %r\" % (mean, std * 2, params))\n",
    "\n",
    "print(\"best CV_score: %0.3f   best parameter: %r\" % (clf.best_score_, clf.best_params_))"
   ]
  },
  {
   "cell_type": "markdown",
   "metadata": {},
   "source": [
    "### Evaluate the model with the test set.\n",
    "\n",
    "In classification problems, the accuracy of the test set can be used to evaluate the model. The accuracy of the model on the test set is 100%."
   ]
  },
  {
   "cell_type": "code",
   "execution_count": 9,
   "metadata": {},
   "outputs": [
    {
     "name": "stdout",
     "output_type": "stream",
     "text": [
      "test score: 1.0\n"
     ]
    }
   ],
   "source": [
    "score = clf.score(X_test,y_test)\n",
    "\n",
    "print(\"test score:\",score)"
   ]
  },
  {
   "cell_type": "markdown",
   "metadata": {},
   "source": [
    "### Print out the precision and recall of the training and test sets.\n",
    "\n",
    "In classification problems, precision and recall can also be used to evaluate the model. 1) If the model has a high precision value and a low recall value for a certain category, it means that the model is too conservative for predicting such problems. 2) If the values of precision and recall are high, we can use f1-score to comprehensively evaluate.\n",
    "From the results of the training set, the precision and recall values for the first flower are both 1, indicating that the prediction accuracy is 100%. The recall value of the second flower and the precision value of the third flower are lower than 1, which may be that the model incorrectly predicted a few second flowers as the third flower."
   ]
  },
  {
   "cell_type": "code",
   "execution_count": 10,
   "metadata": {},
   "outputs": [
    {
     "name": "stdout",
     "output_type": "stream",
     "text": [
      "              precision    recall  f1-score   support\n",
      "\n",
      "           0       1.00      1.00      1.00        40\n",
      "           1       1.00      0.97      0.99        40\n",
      "           2       0.98      1.00      0.99        40\n",
      "\n",
      "   micro avg       0.99      0.99      0.99       120\n",
      "   macro avg       0.99      0.99      0.99       120\n",
      "weighted avg       0.99      0.99      0.99       120\n",
      "\n"
     ]
    }
   ],
   "source": [
    "from sklearn.metrics import classification_report\n",
    "\n",
    "y_train_predict = clf.best_estimator_.predict(X_train)\n",
    "print(classification_report(y_train,y_train_predict))"
   ]
  },
  {
   "cell_type": "markdown",
   "metadata": {},
   "source": [
    "Since the accuracy on the test set is 100%, the values of precision and recall are also 1."
   ]
  },
  {
   "cell_type": "code",
   "execution_count": 11,
   "metadata": {},
   "outputs": [
    {
     "name": "stdout",
     "output_type": "stream",
     "text": [
      "              precision    recall  f1-score   support\n",
      "\n",
      "           0       1.00      1.00      1.00        10\n",
      "           1       1.00      1.00      1.00        10\n",
      "           2       1.00      1.00      1.00        10\n",
      "\n",
      "   micro avg       1.00      1.00      1.00        30\n",
      "   macro avg       1.00      1.00      1.00        30\n",
      "weighted avg       1.00      1.00      1.00        30\n",
      "\n"
     ]
    }
   ],
   "source": [
    "y_predict = clf.best_estimator_.predict(X_test)\n",
    "print(classification_report(y_test,y_predict))"
   ]
  },
  {
   "cell_type": "markdown",
   "metadata": {},
   "source": [
    "### Draw the ROC curve.\n",
    "\n",
    "The full name of ROC is Receiver Operating Characteristic Curve.The ROC curve is a line connecting a series of (FPR, TPR) value points under threshold.The closer the ROC curve is to the upper left corner, the better the performance of the model. Since the accuracy is 100% on the test set, the curve is almost close to the coordinate axis."
   ]
  },
  {
   "cell_type": "code",
   "execution_count": 12,
   "metadata": {},
   "outputs": [
    {
     "data": {
      "image/png": "[encoded data removed]",
      "text/plain": [
       "<Figure size 432x288 with 1 Axes>"
      ]
     },
     "metadata": {
      "needs_background": "light"
     },
     "output_type": "display_data"
    }
   ],
   "source": [
    "from sklearn.metrics import roc_curve, auc\n",
    "from sklearn.preprocessing import label_binarize\n",
    "from sklearn.multiclass import OneVsRestClassifier\n",
    "from scipy import interp\n",
    "from itertools import cycle\n",
    "yy = label_binarize(y, classes=[0,1,2])\n",
    "y_test_2 = label_binarize(y_test, classes=[0,1,2])\n",
    "n_classes = yy.shape[1]\n",
    "labels = ['setosa', 'versicolor', 'virginica']\n",
    "\n",
    "classifier = OneVsRestClassifier(clf.best_estimator_)\n",
    "\n",
    "if hasattr(classifier, \"decision_function\"):\n",
    "    y_score = classifier.fit(X_train, y_train).decision_function(X_test)\n",
    "else:\n",
    "    y_score = classifier.fit(X_train, y_train).predict_proba(X_test)\n",
    "\n",
    "fpr = dict()\n",
    "tpr = dict()\n",
    "roc_auc = dict()\n",
    "for i in range(n_classes):\n",
    "    fpr[i], tpr[i], _ = roc_curve(y_test_2[:, i], y_score[:, i])\n",
    "    roc_auc[i] = auc(fpr[i], tpr[i])\n",
    "\n",
    "fpr[\"micro\"], tpr[\"micro\"], _ = roc_curve(y_test_2.ravel(), y_score.ravel())\n",
    "roc_auc[\"micro\"] = auc(fpr[\"micro\"], tpr[\"micro\"])\n",
    "\n",
    "all_fpr = np.unique(np.concatenate([fpr[i] for i in range(n_classes)]))\n",
    "\n",
    "mean_tpr = np.zeros_like(all_fpr)\n",
    "for i in range(n_classes):\n",
    "    mean_tpr += interp(all_fpr, fpr[i], tpr[i])\n",
    "\n",
    "mean_tpr /= n_classes\n",
    "\n",
    "fpr[\"macro\"] = all_fpr\n",
    "tpr[\"macro\"] = mean_tpr\n",
    "roc_auc[\"macro\"] = auc(fpr[\"macro\"], tpr[\"macro\"])\n",
    "\n",
    "lw = 2\n",
    "colors = cycle([\"limegreen\",\"darkcyan\",\"magenta\"])\n",
    "for i, color in zip(range(n_classes), colors):\n",
    "    plt.plot(fpr[i], tpr[i], color=color, lw=lw,\n",
    "            label='{0}'\n",
    "            ''.format(labels[i]))\n",
    "plt.plot(fpr[\"micro\"], tpr[\"micro\"],\n",
    "        label='Average',\n",
    "        color='red', linestyle=':', linewidth=4)\n",
    "\n",
    "plt.plot([0, 1], [0, 1], 'k--', lw=lw)\n",
    "plt.xlim([0.0, 1.0])\n",
    "plt.ylim([0.0, 1.05])\n",
    "plt.xticks(fontsize=15)\n",
    "plt.yticks(fontsize=15)\n",
    "\n",
    "plt.xlabel('False Positive Rate',size=20)\n",
    "plt.ylabel('True Positive Rate',size=20)\n",
    "\n",
    "plt.legend(loc=\"lower right\",prop = {'size':15})\n",
    "\n",
    "plt.show()"
   ]
  },
  {
   "cell_type": "markdown",
   "metadata": {},
   "source": [
    "## Understanding of the KNN model.\n",
    "\n",
    "This part is an understanding of the KNN model. The traditional KNN model is divided into the following 5 parts(function):\n",
    "1) init: The main control parameters are passed in. There are two parameters: k (the number of nearest neighbors), and dist_fn (for the definition of distance, generally Euclidean distance)\n",
    "2) encliden_dist: This function defines the Euclidean distance (the straight line distance between two points).\n",
    "3) find_nearest: This function is used to calculate the distance between the prediction point and the training sample when making predictions.\n",
    "4) fit: This function is used for model training. Since the KNN model is lazy, the training process becomes a process of saving the training set.\n",
    "5) predict: This function is used to predict unknown data points. It first calculates the distance between the predicted points and the points in the training set, then sorts them, and finally selects the points with the most class as the category of the predicted points."
   ]
  },
  {
   "cell_type": "code",
   "execution_count": 13,
   "metadata": {},
   "outputs": [],
   "source": [
    "import numpy as np\n",
    "\n",
    "class KNNClassifier(object):\n",
    "    def __init__(self, k, dist_fn=None):\n",
    "        self.k = k\n",
    "        if dist_fn is None:\n",
    "            self.dist_fn = self._euclidean_dist\n",
    "    \n",
    "    def _euclidean_dist(self, a, b):\n",
    "        dist = 0.\n",
    "        for ele_i, ele_j in zip(a, b):\n",
    "            dist += ((ele_i - ele_j)**2)\n",
    "        dist = dist**0.5\n",
    "        return dist\n",
    "        \n",
    "    def _find_nearest(self, x):\n",
    "        dist_idx_pairs = []\n",
    "        for j in range(self.dataset_.shape[0]):\n",
    "            d = self.dist_fn(x, self.dataset_[j])\n",
    "            dist_idx_pairs.append((d, j))\n",
    "            \n",
    "        sorted_dist_idx_pairs = sorted(dist_idx_pairs)\n",
    "\n",
    "        return sorted_dist_idx_pairs\n",
    "    \n",
    "    def fit(self, X, y):\n",
    "        self.dataset_ = X.copy()\n",
    "        self.labels_ = y.copy()\n",
    "        self.possible_labels_ = np.unique(y)\n",
    "\n",
    "    def predict(self, X):\n",
    "        predictions = np.zeros(X.shape[0], dtype=int)\n",
    "        for i in range(X.shape[0]):\n",
    "            k_nearest = self._find_nearest(X[i])[:self.k]\n",
    "            indices = [entry[1] for entry in k_nearest]\n",
    "            k_labels = self.labels_[indices]\n",
    "            counts = np.bincount(k_labels,\n",
    "                                 minlength=self.possible_labels_.shape[0])\n",
    "            pred_label = np.argmax(counts)\n",
    "            predictions[i] = pred_label\n",
    "        return predictions"
   ]
  },
  {
   "cell_type": "markdown",
   "metadata": {},
   "source": [
    "## Improvements to the KNN model."
   ]
  },
  {
   "cell_type": "markdown",
   "metadata": {},
   "source": [
    "### KNN model based on SVM feature weighting.\n",
    "\n",
    "This part is my improvement on the KNN model. When KNN calculates the distance, it treats each feature uniformly. However, when the number of features is large, sometimes it is necessary to weight the unimportant features, so I mainly weight the features of the KNN when calculating the distance.The main process is as follows: First, the training set is trained with SVM to obtain the importance of features. Then customize the distance function and add the weight calculated by the SVM to the distance function. Finally, the defined function is put into the metric in the KNN model.\n",
    "This improved KNN algorithm, which I used to classify high-entropy alloys, has significantly improved the accuracy of the test set."
   ]
  },
  {
   "cell_type": "code",
   "execution_count": 14,
   "metadata": {
    "scrolled": true
   },
   "outputs": [
    {
     "data": {
      "text/plain": [
       "KNeighborsClassifier(algorithm='auto', leaf_size=30,\n",
       "           metric=<function my_metric at 0x0000023202A8A598>,\n",
       "           metric_params=None, n_jobs=None, n_neighbors=3, p=2,\n",
       "           weights='uniform')"
      ]
     },
     "execution_count": 14,
     "metadata": {},
     "output_type": "execute_result"
    }
   ],
   "source": [
    "from sklearn.svm import SVC\n",
    "from sklearn.neighbors import KNeighborsClassifier\n",
    "\n",
    "SVM = SVC(C=31, kernel='linear',gamma='auto').fit(X_train,y_train)\n",
    "calculate_weight = (SVM.coef_[0])**2 + (SVM.coef_[1])**2 + (SVM.coef_[2])**2\n",
    "def my_metric(x,y):\n",
    "    dis = 0\n",
    "    for num_feature in range(len(x)):\n",
    "        dis += ((x[num_feature] - y[num_feature])**2)*(calculate_weight[num_feature])\n",
    "    dis = dis**(0.5)\n",
    "    return dis\n",
    "KNN = KNeighborsClassifier(n_neighbors=3,algorithm='auto',metric=my_metric)\n",
    "KNN.fit(X_train,y_train)"
   ]
  }
 ],
 "metadata": {
  "kernelspec": {
   "display_name": "Python 3",
   "language": "python",
   "name": "python3"
  },
  "language_info": {
   "codemirror_mode": {
    "name": "ipython",
    "version": 3
   },
   "file_extension": ".py",
   "mimetype": "text/x-python",
   "name": "python",
   "nbconvert_exporter": "python",
   "pygments_lexer": "ipython3",
   "version": "3.6.5"
  }
 },
 "nbformat": 4,
 "nbformat_minor": 2
}
